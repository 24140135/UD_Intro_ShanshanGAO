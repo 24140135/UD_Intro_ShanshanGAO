{
 "cells": [
  {
   "cell_type": "code",
   "execution_count": 2,
   "id": "ec73657b",
   "metadata": {},
   "outputs": [
    {
     "name": "stdout",
     "output_type": "stream",
     "text": [
      "Introduction to Programming\n"
     ]
    }
   ],
   "source": [
    "print(\"Introduction to Programming\")"
   ]
  },
  {
   "cell_type": "code",
   "execution_count": 33,
   "id": "b05a4b68",
   "metadata": {},
   "outputs": [
    {
     "name": "stdout",
     "output_type": "stream",
     "text": [
      "Hello world\n"
     ]
    }
   ],
   "source": [
    "print(\"Hello world\")"
   ]
  },
  {
   "cell_type": "code",
   "execution_count": 17,
   "id": "09027c0e",
   "metadata": {},
   "outputs": [
    {
     "name": "stdout",
     "output_type": "stream",
     "text": [
      "shanshan GAO\n",
      "ucbvsg4@ucl.ac.uk\n",
      "27\n"
     ]
    }
   ],
   "source": [
    "name = \"shanshan GAO\"\n",
    "email = \"ucbvsg4@ucl.ac.uk\"\n",
    "age = \"27\"\n",
    "print(name)\n",
    "print(email)\n",
    "print(age)"
   ]
  },
  {
   "cell_type": "code",
   "execution_count": 18,
   "id": "bb109f24",
   "metadata": {},
   "outputs": [
    {
     "name": "stdout",
     "output_type": "stream",
     "text": [
      "shanshan GAO\n",
      "ucbvsg4@ucl.ac.uk\n",
      "27\n"
     ]
    }
   ],
   "source": [
    "print(name + '\\n' + email + '\\n' + age)"
   ]
  },
  {
   "cell_type": "code",
   "execution_count": 27,
   "id": "8322a58b",
   "metadata": {},
   "outputs": [
    {
     "name": "stdout",
     "output_type": "stream",
     "text": [
      "0.0\n",
      "3.63265306122449\n",
      "-0.42857142857142855\n",
      "59.95918367346939\n"
     ]
    }
   ],
   "source": [
    "Number = [0,178,-21,2938]\n",
    "division_results = []\n",
    "for num in Number:\n",
    "    division_results.append(num/49)\n",
    "for result in division_results:\n",
    "    print(result)"
   ]
  },
  {
   "cell_type": "code",
   "execution_count": 28,
   "id": "7fa47320",
   "metadata": {},
   "outputs": [
    {
     "name": "stdout",
     "output_type": "stream",
     "text": [
      "4337328\n",
      "3833759992447475122176\n"
     ]
    }
   ],
   "source": [
    "print(436*9948)\n",
    "print(12**20)"
   ]
  },
  {
   "cell_type": "code",
   "execution_count": 40,
   "id": "d953c8ba",
   "metadata": {},
   "outputs": [
    {
     "name": "stdout",
     "output_type": "stream",
     "text": [
      "-0.34202014332566866\n"
     ]
    }
   ],
   "source": [
    "import math\n",
    "a = math.sin(math.radians(200))\n",
    "print(a)"
   ]
  },
  {
   "cell_type": "code",
   "execution_count": 41,
   "id": "92b13e43",
   "metadata": {},
   "outputs": [
    {
     "name": "stdout",
     "output_type": "stream",
     "text": [
      "-0.1736481776669303\n"
     ]
    }
   ],
   "source": [
    "import math\n",
    "b = math.cos(math.radians(100))\n",
    "print(b)"
   ]
  },
  {
   "cell_type": "code",
   "execution_count": 43,
   "id": "ab6f3a70",
   "metadata": {},
   "outputs": [
    {
     "name": "stdout",
     "output_type": "stream",
     "text": [
      "0.9999999999999999\n"
     ]
    }
   ],
   "source": [
    "import math\n",
    "c = math.tan(math.pi/4)\n",
    "print(c)"
   ]
  },
  {
   "cell_type": "code",
   "execution_count": 44,
   "id": "fd47c8b3",
   "metadata": {},
   "outputs": [
    {
     "name": "stdout",
     "output_type": "stream",
     "text": [
      "shanshan GAO\n"
     ]
    }
   ],
   "source": [
    "print(\"shanshan\" + \" \" + \"GAO\")"
   ]
  },
  {
   "cell_type": "code",
   "execution_count": 53,
   "id": "d939f09a",
   "metadata": {},
   "outputs": [
    {
     "name": "stdout",
     "output_type": "stream",
     "text": [
      "Enter your first_name = shanshan\n",
      "Enter your last_name = GAO\n",
      "shanshan GAO\n"
     ]
    }
   ],
   "source": [
    "first_name = input(\"Enter your first_name = \")\n",
    "last_name = input(\"Enter your last_name = \")\n",
    "print(first_name + \" \" + last_name)"
   ]
  },
  {
   "cell_type": "code",
   "execution_count": 54,
   "id": "3b78be1d",
   "metadata": {},
   "outputs": [
    {
     "name": "stdout",
     "output_type": "stream",
     "text": [
      "Enter a number = 7\n",
      "the number is positive\n"
     ]
    }
   ],
   "source": [
    "user_number = input(\"Enter a number = \")\n",
    "number = float(user_number)\n",
    "if number > 0:\n",
    "    print(\"the number is positive\")\n",
    "elif number < 0:\n",
    "    print(\"the number is negative\")\n",
    "else:\n",
    "    print(\"the number is zero\")"
   ]
  },
  {
   "cell_type": "code",
   "execution_count": 21,
   "id": "2e104b6c",
   "metadata": {},
   "outputs": [
    {
     "name": "stdout",
     "output_type": "stream",
     "text": [
      "Enter the min number of the range(e.g:1):3\n",
      "Enter the max number of the range(e.g:20):12\n",
      "Please continue to guess the number between 3 and 12\n",
      "Your guess:6\n",
      "Too low! Try again!\n",
      "Your guess:10\n",
      "Too high! Try again!\n",
      "Your guess:8\n",
      "Too high! Try again!\n",
      "Your guess:7\n",
      "You successed! It took you 4 guesses\n"
     ]
    }
   ],
   "source": [
    "import random\n",
    "\n",
    "min_number = int(input(\"Enter the min number of the range(e.g:1):\"))\n",
    "max_number = int(input(\"Enter the max number of the range(e.g:20):\"))\n",
    "    \n",
    "while min_number >= max_number:\n",
    "    print(\"Invalid range.Please ensure the min_number is less than the max_number\")\n",
    "    min_number = int(input(\"Enter the min number of the range(e.g:1):\"))\n",
    "    max_number = int(input(\"Enter the max number of the range(e.g:20):\"))\n",
    "    \n",
    "goal_number = random.randint(min_number,max_number)\n",
    "guess_count = 0\n",
    "guess = None\n",
    "print(f\"Please continue to guess the number between {min_number} and {max_number}\")\n",
    "          \n",
    "while   guess != goal_number:\n",
    "        guess = int(input(\"Your guess:\"))\n",
    "        guess_count += 1\n",
    "          \n",
    "        if guess < goal_number:\n",
    "            print(\"Too low! Try again!\")\n",
    "        elif guess > goal_number:\n",
    "            print(\"Too high! Try again!\")\n",
    "        else:\n",
    "            print(f\"You successed! It took you {guess_count} guesses\")"
   ]
  },
  {
   "cell_type": "code",
   "execution_count": 19,
   "id": "e420e11f",
   "metadata": {},
   "outputs": [
    {
     "name": "stdout",
     "output_type": "stream",
     "text": [
      "Enter a sentence:I hope that I can get good luck!\n",
      "I\n",
      " \n",
      "h\n",
      "o\n",
      "p\n",
      "e\n",
      " \n",
      "t\n",
      "h\n",
      "a\n",
      "t\n",
      " \n",
      "I\n",
      " \n",
      "c\n",
      "a\n",
      "n\n",
      " \n",
      "g\n",
      "e\n",
      "t\n",
      " \n",
      "g\n",
      "o\n",
      "o\n",
      "d\n",
      " \n",
      "l\n",
      "u\n",
      "c\n",
      "k\n",
      "!\n"
     ]
    }
   ],
   "source": [
    "my_sentence = input(\"Enter a sentence:\")\n",
    "for char in my_sentence:\n",
    "    print(char)"
   ]
  },
  {
   "cell_type": "code",
   "execution_count": 25,
   "id": "01ca0566",
   "metadata": {},
   "outputs": [
    {
     "name": "stdout",
     "output_type": "stream",
     "text": [
      "Enter the height of the Christmas tree:4\n",
      "   *\n",
      "  ***\n",
      " *****\n",
      "*******\n",
      "   |\n"
     ]
    }
   ],
   "source": [
    "height = int(input(\"Enter the height of the Christmas tree:\"))\n",
    "for i in range(height):\n",
    "    spaces = \" \" * (height - i - 1)\n",
    "    stars = \"*\" * (2 * i + 1 )\n",
    "    tree_row = spaces + stars\n",
    "    print(tree_row)\n",
    "    \n",
    "truck_spaces = \" \" * (height - 1)\n",
    "truck = truck_spaces + \"|\"\n",
    "print(truck)"
   ]
  },
  {
   "cell_type": "code",
   "execution_count": 32,
   "id": "97045fb2",
   "metadata": {},
   "outputs": [
    {
     "name": "stdout",
     "output_type": "stream",
     "text": [
      "Enter the number of Padovan numbers to print:17\n",
      "There are numbers of the Padovan sequence: \n",
      "[1, 1, 1, 2, 2, 3, 4, 5, 7, 9, 12, 16, 21, 28, 37, 49, 65]\n"
     ]
    }
   ],
   "source": [
    "def padovan_sequence(n):\n",
    "    padovan = [1,1,1]\n",
    "    for i in range(3,n):\n",
    "        goal_number = padovan[i-2] + padovan[i-3]\n",
    "        padovan.append(goal_number)\n",
    "    return padovan[:n]\n",
    "\n",
    "n = int(input(\"Enter the number of Padovan numbers to print:\"))\n",
    "sequence = padovan_sequence(n)\n",
    "print(\"There are numbers of the Padovan sequence: \")\n",
    "print(sequence)"
   ]
  },
  {
   "cell_type": "code",
   "execution_count": null,
   "id": "07a6b073",
   "metadata": {},
   "outputs": [],
   "source": []
  }
 ],
 "metadata": {
  "kernelspec": {
   "display_name": "Python 3 (ipykernel)",
   "language": "python",
   "name": "python3"
  },
  "language_info": {
   "codemirror_mode": {
    "name": "ipython",
    "version": 3
   },
   "file_extension": ".py",
   "mimetype": "text/x-python",
   "name": "python",
   "nbconvert_exporter": "python",
   "pygments_lexer": "ipython3",
   "version": "3.10.9"
  }
 },
 "nbformat": 4,
 "nbformat_minor": 5
}
