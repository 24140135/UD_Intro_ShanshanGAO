{
 "cells": [
  {
   "cell_type": "code",
   "execution_count": 4,
   "id": "3ee17fbd",
   "metadata": {},
   "outputs": [
    {
     "name": "stdout",
     "output_type": "stream",
     "text": [
      "[0, 5, 10, 15, 20, 25, 30, 35, 40, 45, 50, 55, 60, 65, 70, 75, 80, 85, 90, 95]\n"
     ]
    }
   ],
   "source": [
    "number = []\n",
    "for i in range(20):\n",
    "    number.append(i * 5)\n",
    "print(number)"
   ]
  },
  {
   "cell_type": "code",
   "execution_count": 13,
   "id": "47c12fba",
   "metadata": {},
   "outputs": [
    {
     "name": "stdout",
     "output_type": "stream",
     "text": [
      "Enter an integer: 77\n",
      "1\n",
      "7\n",
      "11\n",
      "77\n",
      "The largest divisor is: 77\n"
     ]
    }
   ],
   "source": [
    "def find_divisors_and_largest(n):\n",
    "    divisors = []\n",
    "    for i in range(1,n + 1):\n",
    "        if n % i == 0:\n",
    "            divisors.append(i)\n",
    "            print(i)\n",
    "    return max(divisors) if divisors else None\n",
    "\n",
    "number = int(input(\"Enter an integer: \")) \n",
    "largest_divisor = find_divisors_and_largest(number)\n",
    "print(f\"The largest divisor is: {largest_divisor}\")"
   ]
  },
  {
   "cell_type": "code",
   "execution_count": 20,
   "id": "f96a8c4e",
   "metadata": {},
   "outputs": [
    {
     "name": "stdout",
     "output_type": "stream",
     "text": [
      "Is hot pot a key in the mydict? False\n",
      "Swapped dictionary: {'shanshan': 'my name', '77777@ucl.ac.uk': 'my email', 'hot pot': 'my favorite food', 'shanghai': 'my favorite city', 'do yogy': 'my habit', 27: 'my age'}\n"
     ]
    }
   ],
   "source": [
    "mydict = {\n",
    "    \"my name\":\"shanshan\",\n",
    "    \"my email\":\"77777@ucl.ac.uk\",\n",
    "    \"my favorite food\":\"hot pot\",\n",
    "    \"my favorite city\":\"shanghai\",\n",
    "    \"my habit\":\"do yogy\",\n",
    "    \"my age\":27\n",
    "}\n",
    "def is_value_key(mydict,value):\n",
    "    return value in mydict\n",
    "\n",
    "def swap_keys_values(mydict):\n",
    "    swapped_mydict = {}\n",
    "    for key,value in mydict.items():\n",
    "        if value not in swapped_mydict:\n",
    "            swapped_mydict[value] = key\n",
    "        else:\n",
    "            if isinstance(swapped_mydict[value],list):\n",
    "                swapped_mydict[value].append(key)\n",
    "            else:\n",
    "                swapped_mydict[value] = [swapped_mydict[value], key]\n",
    "    return swapped_mydict\n",
    "\n",
    "value_to_check = \"hot pot\"\n",
    "print(f\"Is {value_to_check} a key in the mydict? {is_value_key(mydict, value_to_check)}\")\n",
    "\n",
    "swapped_mydict = swap_keys_values(mydict)\n",
    "print(\"Swapped dictionary:\", swapped_mydict)"
   ]
  },
  {
   "cell_type": "code",
   "execution_count": 21,
   "id": "0b9942eb",
   "metadata": {},
   "outputs": [
    {
     "name": "stdout",
     "output_type": "stream",
     "text": [
      "Enter the number of Fibonacci numbers to generate: 27\n",
      "{0: 0, 1: 1, 2: 1, 3: 2, 4: 3, 5: 5, 6: 8, 7: 13, 8: 21, 9: 34, 10: 55, 11: 89, 12: 144, 13: 233, 14: 377, 15: 610, 16: 987, 17: 1597, 18: 2584, 19: 4181, 20: 6765, 21: 10946, 22: 17711, 23: 28657, 24: 46368, 25: 75025, 26: 121393}\n"
     ]
    }
   ],
   "source": [
    "def fibonacci_dict(n):\n",
    "    fibonacci_numbers = {}\n",
    "    \n",
    "    if n >= 1:\n",
    "        fibonacci_numbers[0] = 0  \n",
    "    if n >= 2:\n",
    "        fibonacci_numbers[1] = 1 \n",
    "    \n",
    "    for i in range(2, n):\n",
    "        fibonacci_numbers[i] = fibonacci_numbers[i - 1] + fibonacci_numbers[i - 2]\n",
    "    \n",
    "    return fibonacci_numbers\n",
    "\n",
    "n = int(input(\"Enter the number of Fibonacci numbers to generate: \"))\n",
    "fib_dict = fibonacci_dict(n)\n",
    "print(fib_dict)"
   ]
  },
  {
   "cell_type": "code",
   "execution_count": null,
   "id": "5a1d52d2",
   "metadata": {},
   "outputs": [],
   "source": []
  }
 ],
 "metadata": {
  "kernelspec": {
   "display_name": "Python 3 (ipykernel)",
   "language": "python",
   "name": "python3"
  },
  "language_info": {
   "codemirror_mode": {
    "name": "ipython",
    "version": 3
   },
   "file_extension": ".py",
   "mimetype": "text/x-python",
   "name": "python",
   "nbconvert_exporter": "python",
   "pygments_lexer": "ipython3",
   "version": "3.10.9"
  }
 },
 "nbformat": 4,
 "nbformat_minor": 5
}
